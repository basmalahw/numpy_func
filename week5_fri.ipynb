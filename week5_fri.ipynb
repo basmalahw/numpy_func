{
 "cells": [
  {
   "cell_type": "code",
   "execution_count": 2,
   "id": "49d260f2-58a1-4844-ab3a-c151f8961b7f",
   "metadata": {},
   "outputs": [],
   "source": [
    "import numpy as np"
   ]
  },
  {
   "cell_type": "markdown",
   "id": "1202890d-805c-43ec-a881-da82321fa7af",
   "metadata": {},
   "source": [
    "***1D***"
   ]
  },
  {
   "cell_type": "code",
   "execution_count": 3,
   "id": "b5461365-2997-44ec-9fa0-344d0e2a4a2f",
   "metadata": {},
   "outputs": [
    {
     "name": "stdout",
     "output_type": "stream",
     "text": [
      "1D Array: [1 2 3 4 5]\n",
      "(5,)\n"
     ]
    }
   ],
   "source": [
    "array_1d = np.array([1, 2, 3, 4 ,5])\n",
    "print('1D Array:', array_1d)\n",
    "print(array_1d.shape)"
   ]
  },
  {
   "cell_type": "markdown",
   "id": "feac1c41-08cb-43b9-bd4f-5f3a34e78b28",
   "metadata": {},
   "source": [
    "***2D***"
   ]
  },
  {
   "cell_type": "code",
   "execution_count": 3,
   "id": "a03ef446-1fb4-4cfe-ac01-67908b84f73d",
   "metadata": {},
   "outputs": [
    {
     "name": "stdout",
     "output_type": "stream",
     "text": [
      "2D Array: [[1 2]\n",
      " [3 4]]\n",
      "(2, 2)\n"
     ]
    }
   ],
   "source": [
    "array_2d = np.array([[1,2],[3,4]])\n",
    "print('2D Array:', array_2d)\n",
    "print(array_2d.shape)"
   ]
  },
  {
   "cell_type": "markdown",
   "id": "36a88cce-d365-4e76-8781-bd17095c9d14",
   "metadata": {},
   "source": [
    "***3D***"
   ]
  },
  {
   "cell_type": "code",
   "execution_count": 6,
   "id": "758a8ac0-e7d7-421f-a4a5-73a4e49ac7d8",
   "metadata": {},
   "outputs": [
    {
     "name": "stdout",
     "output_type": "stream",
     "text": [
      "3D Array: [[[1 2]\n",
      "  [3 4]]\n",
      "\n",
      " [[5 6]\n",
      "  [7 8]]]\n",
      "(2, 2, 2)\n"
     ]
    }
   ],
   "source": [
    "array_3d = np.array([[[1,2],[3,4]],[[5,6],[7,8]]])\n",
    "print('3D Array:', array_3d)\n",
    "print(array_3d.shape)"
   ]
  },
  {
   "cell_type": "markdown",
   "id": "2554ebc0-85ab-4c89-aed8-7373d1d81afb",
   "metadata": {},
   "source": [
    "***Diagonal***\n"
   ]
  },
  {
   "cell_type": "code",
   "execution_count": 17,
   "id": "deeb3a10-e90a-41b5-a78b-bb89a9d96885",
   "metadata": {},
   "outputs": [
    {
     "name": "stdout",
     "output_type": "stream",
     "text": [
      "[[1 0 0 0]\n",
      " [0 2 0 0]\n",
      " [0 0 3 0]\n",
      " [0 0 0 4]]\n"
     ]
    }
   ],
   "source": [
    "diagonally = np.diag([1,2,3,4])\n",
    "print(diagonally)"
   ]
  },
  {
   "cell_type": "markdown",
   "id": "c6ac85a1-b314-42df-9b5d-58d1111075cc",
   "metadata": {},
   "source": [
    "***Random***"
   ]
  },
  {
   "cell_type": "code",
   "execution_count": 56,
   "id": "a49ca4cd-f746-4574-a1fc-b56e1d0a2117",
   "metadata": {},
   "outputs": [
    {
     "name": "stdout",
     "output_type": "stream",
     "text": [
      "3\n"
     ]
    }
   ],
   "source": [
    "import random\n",
    "\n",
    "random_number = random.randint(1, 10)\n",
    "print(random_number)"
   ]
  },
  {
   "cell_type": "code",
   "execution_count": 95,
   "id": "a635635b-5c9b-490e-b8a7-a78c00b70281",
   "metadata": {},
   "outputs": [
    {
     "data": {
      "text/plain": [
       "array([[5, 3, 0],\n",
       "       [1, 9, 1]])"
      ]
     },
     "execution_count": 95,
     "metadata": {},
     "output_type": "execute_result"
    }
   ],
   "source": [
    "np.random.randint(0, 10, (2, 3))\n"
   ]
  },
  {
   "cell_type": "code",
   "execution_count": 59,
   "id": "ac2a5dad-0576-4e53-83d9-5a9f19b48b7a",
   "metadata": {},
   "outputs": [
    {
     "name": "stdout",
     "output_type": "stream",
     "text": [
      "[[0.49010617 0.72684662]\n",
      " [0.69576181 0.69114488]]\n"
     ]
    }
   ],
   "source": [
    "M = np.random.rand(2, 2)\n",
    "print(M)"
   ]
  },
  {
   "cell_type": "code",
   "execution_count": 83,
   "id": "eb6724f6-d8f1-4a45-a8f5-dfd45112e7be",
   "metadata": {},
   "outputs": [
    {
     "name": "stdout",
     "output_type": "stream",
     "text": [
      "2\n"
     ]
    }
   ],
   "source": [
    "array_2d = random.randint(1, 4)\n",
    "print(array_2d)"
   ]
  },
  {
   "cell_type": "markdown",
   "id": "46a217ef-324f-4c9a-9da0-2fc2f2a2fb8a",
   "metadata": {},
   "source": [
    "***Random_sample***"
   ]
  },
  {
   "cell_type": "code",
   "execution_count": 34,
   "id": "93cb0e24-971e-4309-a3d1-10ed0ca67244",
   "metadata": {},
   "outputs": [
    {
     "name": "stdout",
     "output_type": "stream",
     "text": [
      "[3 4 1]\n"
     ]
    }
   ],
   "source": [
    "A=np.array([1,2,3,4])\n",
    "print(np.random.choice(A,3))"
   ]
  },
  {
   "cell_type": "markdown",
   "id": "087c058b-5702-422f-9a9c-3486f7f8e309",
   "metadata": {},
   "source": [
    "***Element_wise operation***"
   ]
  },
  {
   "cell_type": "code",
   "execution_count": 38,
   "id": "5bdd413b-a6e8-4fe2-96ce-b42eb0daab08",
   "metadata": {},
   "outputs": [
    {
     "name": "stdout",
     "output_type": "stream",
     "text": [
      "[[1.58169601 2.53321966]\n",
      " [3.77631765 4.58343527]]\n"
     ]
    }
   ],
   "source": [
    "# Addition\n",
    "Add = M + array_2d\n",
    "print(Add)"
   ]
  },
  {
   "cell_type": "code",
   "execution_count": 36,
   "id": "cfcf1c77-3315-483d-b388-15d011498990",
   "metadata": {},
   "outputs": [
    {
     "name": "stdout",
     "output_type": "stream",
     "text": [
      "[[0.58169601 1.06643931]\n",
      " [2.32895296 2.33374109]]\n"
     ]
    }
   ],
   "source": [
    "# Multiplication\n",
    "Multiply = array_2d * M\n",
    "print(Multiply)"
   ]
  },
  {
   "cell_type": "markdown",
   "id": "2317a417-5932-4038-8346-215cbe6e6b51",
   "metadata": {},
   "source": [
    "***Max***"
   ]
  },
  {
   "cell_type": "code",
   "execution_count": 39,
   "id": "1ac70763-b48a-445d-8f61-181bdf7691a8",
   "metadata": {},
   "outputs": [
    {
     "name": "stdout",
     "output_type": "stream",
     "text": [
      "9\n"
     ]
    }
   ],
   "source": [
    "max_in_array = np.max([7,3,9,0])\n",
    "print(max_in_array)"
   ]
  },
  {
   "cell_type": "markdown",
   "id": "5a56649b-5512-4fa2-9a3e-4fed64acc8fc",
   "metadata": {},
   "source": [
    "***Min***"
   ]
  },
  {
   "cell_type": "code",
   "execution_count": 40,
   "id": "316ca14c-918f-4d0c-92b4-a2c72c823f2f",
   "metadata": {},
   "outputs": [
    {
     "name": "stdout",
     "output_type": "stream",
     "text": [
      "0\n"
     ]
    }
   ],
   "source": [
    "min_in_array = np.min([7,3,9,0])\n",
    "print(min_in_array)"
   ]
  },
  {
   "cell_type": "markdown",
   "id": "775b34b7-167c-4932-81e6-f3a0e410e782",
   "metadata": {},
   "source": [
    "***Mean***"
   ]
  },
  {
   "cell_type": "code",
   "execution_count": 41,
   "id": "3f9cc79b-f3db-438e-9aae-a481903252a8",
   "metadata": {},
   "outputs": [
    {
     "name": "stdout",
     "output_type": "stream",
     "text": [
      "4.75\n"
     ]
    }
   ],
   "source": [
    "mean_in_array = np.mean([7,3,9,0])\n",
    "print(mean_in_array)"
   ]
  },
  {
   "cell_type": "markdown",
   "id": "fd8720c6-789f-42de-9013-cee1df275567",
   "metadata": {},
   "source": [
    "***Flatten***"
   ]
  },
  {
   "cell_type": "code",
   "execution_count": 44,
   "id": "42bd3403-4c3f-4fd9-b3f4-67ab8c7f93c2",
   "metadata": {},
   "outputs": [
    {
     "name": "stdout",
     "output_type": "stream",
     "text": [
      "[[1 2]\n",
      " [3 4]]\n",
      "[1 2 3 4]\n"
     ]
    }
   ],
   "source": [
    "Flatten = array_2d.flatten()\n",
    "print(array_2d)\n",
    "print(Flatten)"
   ]
  },
  {
   "cell_type": "markdown",
   "id": "613a8dd6-fe35-4db2-aeba-46c8fc415a26",
   "metadata": {},
   "source": [
    "***V_STACK***"
   ]
  },
  {
   "cell_type": "code",
   "execution_count": 98,
   "id": "06cb1d71-4066-4ada-8725-2f5b35852e4b",
   "metadata": {},
   "outputs": [
    {
     "name": "stdout",
     "output_type": "stream",
     "text": [
      "[1 2 3 4 5]\n",
      "Vertical Stack:\n",
      " [[1 2 3 4 5]\n",
      " [1 2 3 4 5]\n",
      " [1 2 3 4 5]]\n"
     ]
    }
   ],
   "source": [
    "v_stack = np.vstack((array_1d,array_1d,array_1d))\n",
    "print(array_1d)\n",
    "print(\"Vertical Stack:\\n\",v_stack)"
   ]
  },
  {
   "cell_type": "markdown",
   "id": "890055d9-8c6f-41be-a737-ac810aa89c95",
   "metadata": {},
   "source": [
    "***H_STACK***"
   ]
  },
  {
   "cell_type": "code",
   "execution_count": 100,
   "id": "18c93567-ca35-4cdc-90e9-8768990662ed",
   "metadata": {},
   "outputs": [
    {
     "name": "stdout",
     "output_type": "stream",
     "text": [
      "[1 2 3 4 5]\n",
      "Horizontal Stack: [1 2 3 4 5 1 2 3 4 5]\n"
     ]
    }
   ],
   "source": [
    "h_stack = np.hstack((array_1d,array_1d))\n",
    "print(array_1d)\n",
    "print(\"Horizontal Stack:\",h_stack)"
   ]
  },
  {
   "cell_type": "markdown",
   "id": "24e56f2b-4420-481c-97a6-68514758880d",
   "metadata": {},
   "source": [
    "***Rounding_elements_in_array***"
   ]
  },
  {
   "cell_type": "code",
   "execution_count": 127,
   "id": "bc7b09a6-3755-4cd2-b120-d8dcf5860d57",
   "metadata": {},
   "outputs": [
    {
     "data": {
      "text/plain": [
       "array([2., 3., 3., 5.])"
      ]
     },
     "execution_count": 127,
     "metadata": {},
     "output_type": "execute_result"
    }
   ],
   "source": [
    "np.round(np.array([1.777,2.974,3.247,4.674]),)"
   ]
  },
  {
   "cell_type": "markdown",
   "id": "a6797005-8a3c-4e51-adee-35996138a0d5",
   "metadata": {},
   "source": [
    "***Masked_Array***"
   ]
  },
  {
   "cell_type": "code",
   "execution_count": 109,
   "id": "d8768f31-a6ad-4f3f-b097-ff6c3dbd1386",
   "metadata": {},
   "outputs": [
    {
     "name": "stdout",
     "output_type": "stream",
     "text": [
      "Masked Array: [-- -- 3 4]\n"
     ]
    }
   ],
   "source": [
    "masked_array = np.ma.masked_array([1, 2, 3, 4], mask=[1, 1, 0, 0])\n",
    "print(\"Masked Array:\",masked_array)"
   ]
  },
  {
   "cell_type": "markdown",
   "id": "ed3139ac-254e-4e3e-b015-2f2531ed464c",
   "metadata": {},
   "source": [
    "***Advanced_indexing***"
   ]
  },
  {
   "cell_type": "code",
   "execution_count": 126,
   "id": "4e62f9e9-ffaf-491b-a70a-3c2b0a8a1c8c",
   "metadata": {},
   "outputs": [
    {
     "name": "stdout",
     "output_type": "stream",
     "text": [
      "[array([[ True,  True],\n",
      "       [False, False]])]\n"
     ]
    }
   ],
   "source": [
    "m_1 =np.array([[1,2],[3,4]])\n",
    "m_2 = np.array([[5,6],[7,8]])\n",
    "indexing = [(m_1 < 3) & (m_2 > 3)]\n",
    "print(indexing)"
   ]
  },
  {
   "cell_type": "markdown",
   "id": "c1e01056-aec2-4f9d-8c03-521d5ee53f9b",
   "metadata": {},
   "source": [
    "***Creating a random permutation of an array***"
   ]
  },
  {
   "cell_type": "code",
   "execution_count": 7,
   "id": "5efaf89e-4a4b-4812-ae32-aeeb9a0484b2",
   "metadata": {},
   "outputs": [
    {
     "name": "stdout",
     "output_type": "stream",
     "text": [
      "[2 4 5 3 0 1]\n"
     ]
    }
   ],
   "source": [
    "seq = np.arange(6)\n",
    "shuffled_seq = np.random.permutation(seq)\n",
    "print(shuffled_seq)"
   ]
  },
  {
   "cell_type": "markdown",
   "id": "95910223-b334-4bfc-a990-f80c71885e7e",
   "metadata": {},
   "source": [
    "***Concatenating two arrays***"
   ]
  },
  {
   "cell_type": "code",
   "execution_count": 24,
   "id": "8c72f40c-ec88-4ef8-b9af-3929188a8546",
   "metadata": {},
   "outputs": [
    {
     "name": "stdout",
     "output_type": "stream",
     "text": [
      "[[1 2]\n",
      " [3 4]]\n",
      "[[ 5  6  7]\n",
      " [ 8  9 10]]\n",
      "[[ 1  2  5  6  7]\n",
      " [ 3  4  8  9 10]]\n"
     ]
    }
   ],
   "source": [
    "arr_1 = np.arange(1,5).reshape(2,2)\n",
    "arr_2 = np.arange(5,11).reshape(2,3)\n",
    "print(arr_1)\n",
    "print(arr_2)\n",
    "print(np.concatenate((arr_1,arr_2),axis=1))"
   ]
  },
  {
   "cell_type": "code",
   "execution_count": 32,
   "id": "860a45b7-47bb-4695-a881-9d898d72a4f5",
   "metadata": {},
   "outputs": [
    {
     "name": "stdout",
     "output_type": "stream",
     "text": [
      "[[1 2 3]\n",
      " [4 5 6]]\n",
      "[[ 7  8  9]\n",
      " [10 11 12]]\n",
      "[[ 1  2  3]\n",
      " [ 4  5  6]\n",
      " [ 7  8  9]\n",
      " [10 11 12]]\n"
     ]
    }
   ],
   "source": [
    "arr_3 = np.arange(1,7).reshape(2,3)\n",
    "arr_4 = np.arange(7,13).reshape(2,3)\n",
    "print(arr_3)\n",
    "print(arr_4)\n",
    "print(np.concatenate((arr_3,arr_4),axis=0))"
   ]
  },
  {
   "cell_type": "markdown",
   "id": "6cf486b4-b7fa-41e7-ba23-91d3b2c8334d",
   "metadata": {},
   "source": [
    "***Finding unique elements in an array***"
   ]
  },
  {
   "cell_type": "code",
   "execution_count": 34,
   "id": "6981b072-520f-4f61-82c3-065d2792fa24",
   "metadata": {},
   "outputs": [
    {
     "name": "stdout",
     "output_type": "stream",
     "text": [
      "[0 1 4 8 9]\n"
     ]
    }
   ],
   "source": [
    "arr = np.array([1,1,9,9,0,4,8])\n",
    "print(np.unique(arr))"
   ]
  },
  {
   "cell_type": "markdown",
   "id": "60476eaa-ed0d-491f-b7b5-dde30ef7ff28",
   "metadata": {},
   "source": [
    "***Counting occurrences of unique elements***"
   ]
  },
  {
   "cell_type": "code",
   "execution_count": 43,
   "id": "029012f5-afbb-4fb8-822d-298af07cc66e",
   "metadata": {},
   "outputs": [
    {
     "name": "stdout",
     "output_type": "stream",
     "text": [
      "[0 1 4 8 9] \n",
      " [1 2 1 1 2]\n"
     ]
    }
   ],
   "source": [
    "unique,counts=np.unique(arr, return_counts=True)\n",
    "print(unique,'\\n',counts)"
   ]
  },
  {
   "cell_type": "markdown",
   "id": "929815e3-cb13-4d42-a912-d1e16cd20d36",
   "metadata": {},
   "source": [
    "***Creating a mask based on a condition***"
   ]
  },
  {
   "cell_type": "code",
   "execution_count": 86,
   "id": "459bbf24-ad1f-412d-9b1b-f26c85ccf1aa",
   "metadata": {},
   "outputs": [
    {
     "name": "stdout",
     "output_type": "stream",
     "text": [
      "[0 1 2 3 4 5 6]\n",
      "[0 1 2 3 4 -- --]\n"
     ]
    }
   ],
   "source": [
    "array = np.arange(7)\n",
    "print(array)\n",
    "array_masked = np.ma.masked_where(array>=5,array)\n",
    "print(array_masked)\n"
   ]
  },
  {
   "cell_type": "markdown",
   "id": "1b5660f0-e2aa-4c4a-a62b-76115e39813a",
   "metadata": {},
   "source": [
    "***Using np.where for multiple conditions***"
   ]
  },
  {
   "cell_type": "code",
   "execution_count": 87,
   "id": "25f89f0b-587a-430f-bde7-e0478615e748",
   "metadata": {},
   "outputs": [
    {
     "name": "stdout",
     "output_type": "stream",
     "text": [
      "[ 8  9 10 11 12 13 14 15]\n",
      "[11 12 13 14 15]\n"
     ]
    }
   ],
   "source": [
    "nums = np.arange(8,16)\n",
    "cond = nums[np.where ((nums>10 ) & (nums<16))]\n",
    "print(nums)\n",
    "print(cond)"
   ]
  },
  {
   "cell_type": "markdown",
   "id": "13b2a14b-7c03-4001-bbb6-0d5023d61639",
   "metadata": {},
   "source": [
    "***Saving multiple arrays to NPZ file***"
   ]
  },
  {
   "cell_type": "code",
   "execution_count": 88,
   "id": "42d2a150-822e-4d42-8ac2-0dd82f988e2d",
   "metadata": {},
   "outputs": [],
   "source": [
    "np.savez('data_saved.npz',array,nums)"
   ]
  },
  {
   "cell_type": "code",
   "execution_count": 94,
   "id": "c63d339d-516a-49a2-a062-0bb8fdc812ee",
   "metadata": {},
   "outputs": [
    {
     "name": "stdout",
     "output_type": "stream",
     "text": [
      "['arr_0', 'arr_1']\n",
      "[0 1 2 3 4 5 6] [ 8  9 10 11 12 13 14 15]\n"
     ]
    }
   ],
   "source": [
    "loaded_data = np.load('data_saved.npz')\n",
    "print(loaded_data.files)\n",
    "print(loaded_data ['arr_0'],loaded_data['arr_1'])"
   ]
  },
  {
   "cell_type": "markdown",
   "id": "2b6a409b-5cae-4a99-9458-fd059425a2cb",
   "metadata": {},
   "source": [
    "***Creating a random seed for reproducibility***"
   ]
  },
  {
   "cell_type": "code",
   "execution_count": 112,
   "id": "04b7081a-f0b9-4f44-867e-019e23ff5aac",
   "metadata": {},
   "outputs": [
    {
     "name": "stdout",
     "output_type": "stream",
     "text": [
      "[[0.78383235 0.63483371 0.24904309 0.75807586 0.31307694 0.93723736]\n",
      " [0.04286545 0.4408672  0.91272229 0.45500392 0.50793434 0.08490795]\n",
      " [0.42634979 0.74571696 0.8670814  0.32366583 0.1040744  0.80210805]\n",
      " [0.39483195 0.62776809 0.03598854 0.29990785 0.04765322 0.37221108]\n",
      " [0.2624152  0.99052621 0.39514535 0.30753926 0.22110114 0.49402502]]\n"
     ]
    }
   ],
   "source": [
    "np.random.seed(46)\n",
    "some_matrix = np.random.rand(5,6)\n",
    "print(some_matrix)"
   ]
  },
  {
   "cell_type": "markdown",
   "id": "024411c6-c59d-4272-bff4-54c3f4458e22",
   "metadata": {},
   "source": [
    "***Creating an array of a specific dtype***"
   ]
  },
  {
   "cell_type": "code",
   "execution_count": 115,
   "id": "e4f9c185-9f3e-4f83-b6d8-73109bbada6b",
   "metadata": {},
   "outputs": [
    {
     "name": "stdout",
     "output_type": "stream",
     "text": [
      "[0. 1. 2. 3. 4. 5. 6. 7.]\n"
     ]
    }
   ],
   "source": [
    "some_array = np.arange((8),dtype= float)\n",
    "print (some_array)"
   ]
  },
  {
   "cell_type": "markdown",
   "id": "acce201c-ac65-489b-8092-9294e1d32a6b",
   "metadata": {},
   "source": [
    "***Performing matrix multiplication***"
   ]
  },
  {
   "cell_type": "code",
   "execution_count": 157,
   "id": "c4f87d6d-607a-4028-aaa0-2f844cc3f0dd",
   "metadata": {},
   "outputs": [
    {
     "name": "stdout",
     "output_type": "stream",
     "text": [
      "[[ 4  5  6]\n",
      " [ 7  8  9]\n",
      " [10 11 12]\n",
      " [13 14 15]]\n",
      "\n",
      " [[ 5  6]\n",
      " [ 7  8]\n",
      " [ 9 10]]\n",
      "\n",
      " Matrix multiplication:  \n",
      " [[109 124]\n",
      " [172 196]\n",
      " [235 268]\n",
      " [298 340]]\n"
     ]
    }
   ],
   "source": [
    "mat1 = np.arange(4,16)\n",
    "mat1_ = np.reshape(mat1,(4,3))\n",
    "print(mat1_)\n",
    "\n",
    "mat2 = np.arange(5,11)\n",
    "mat2_ = np.reshape(mat2,(3,2))\n",
    "print('\\n',mat2_)\n",
    "\n",
    "print('\\n','Matrix multiplication: ','\\n',np.dot(mat1_,mat2_))\n"
   ]
  },
  {
   "cell_type": "markdown",
   "id": "c59a065c-4474-43b3-a819-2a93d85bf9fa",
   "metadata": {},
   "source": [
    "***Performing element-wise comparison with tolerance***"
   ]
  },
  {
   "cell_type": "code",
   "execution_count": 159,
   "id": "fc178b6c-7f19-44cf-8eae-1c34bacc52ae",
   "metadata": {},
   "outputs": [
    {
     "name": "stdout",
     "output_type": "stream",
     "text": [
      "[[ 5  6  7]\n",
      " [ 8  9 10]]\n",
      "Element-wise Comparison with Tolerance 1:\n",
      " [[ True  True  True]\n",
      " [False False False]]\n"
     ]
    }
   ],
   "source": [
    "comparison_with_tolerance = np.isclose(arr_2, 6, atol=1)\n",
    "print(arr_2)\n",
    "print(\"Element-wise Comparison with Tolerance 1:\"'\\n', comparison_with_tolerance)"
   ]
  },
  {
   "cell_type": "markdown",
   "id": "d02e7f94-52ce-435d-a37f-626185601ed8",
   "metadata": {},
   "source": [
    "***Generating a random sample of a specified size without replacement***"
   ]
  },
  {
   "cell_type": "code",
   "execution_count": 182,
   "id": "13b956a4-1590-4774-ab8d-9300bf8f634c",
   "metadata": {},
   "outputs": [
    {
     "name": "stdout",
     "output_type": "stream",
     "text": [
      "[4 3 2 5]\n"
     ]
    }
   ],
   "source": [
    "sample = np.random.choice(np.arange(6),size=4,replace=False)\n",
    "print(sample)"
   ]
  },
  {
   "cell_type": "markdown",
   "id": "7ec69315-de0d-4447-89ac-dbe6754fd71e",
   "metadata": {},
   "source": [
    "***Generating a random sample of a specified size with replacement***"
   ]
  },
  {
   "cell_type": "code",
   "execution_count": 183,
   "id": "cb1c6f42-7194-4a91-9a5e-869c08a1e78f",
   "metadata": {},
   "outputs": [
    {
     "name": "stdout",
     "output_type": "stream",
     "text": [
      "[1 1 2 4]\n"
     ]
    }
   ],
   "source": [
    "sample_1 = np.random.choice(np.arange(6),size=4,replace=True\n",
    "                           )\n",
    "print(sample_1)"
   ]
  },
  {
   "cell_type": "markdown",
   "id": "bcb2c35a-1371-437b-835d-5e9d94470347",
   "metadata": {},
   "source": [
    "***Calculating cumulative sum of elements***"
   ]
  },
  {
   "cell_type": "code",
   "execution_count": 188,
   "id": "12880356-be5a-46df-899f-593bdd2217ec",
   "metadata": {},
   "outputs": [
    {
     "name": "stdout",
     "output_type": "stream",
     "text": [
      "[ 0  1  3  6 10 15]\n"
     ]
    }
   ],
   "source": [
    "elements = np.arange(6).cumsum()\n",
    "print(elements)"
   ]
  },
  {
   "cell_type": "markdown",
   "id": "4cf4a175-215a-4ac4-a416-d88ae3ad9840",
   "metadata": {},
   "source": [
    "***Creating a meshgrid for 2D plotting***"
   ]
  },
  {
   "cell_type": "code",
   "execution_count": 192,
   "id": "fa5d6643-6fe4-4b5a-abde-46241b77d5aa",
   "metadata": {},
   "outputs": [
    {
     "name": "stdout",
     "output_type": "stream",
     "text": [
      "[[3 4 5]\n",
      " [3 4 5]] \n",
      " [[1 1 1]\n",
      " [2 2 2]]\n"
     ]
    }
   ],
   "source": [
    "x = np.array([3,4,5])\n",
    "y = np.array([1,2])\n",
    "xx ,yy = np.meshgrid(x,y)\n",
    "print(xx,'\\n',yy)\n",
    "\n",
    "# (3,1) (4,1) (5,1)\n",
    "# (3,2) (4,2) (5,2)\n"
   ]
  },
  {
   "cell_type": "markdown",
   "id": "4662975c-9289-4c27-b733-21ae4ad977a5",
   "metadata": {},
   "source": [
    "***Using np.clip to limit values in an array***"
   ]
  },
  {
   "cell_type": "code",
   "execution_count": 193,
   "id": "8d028aa7-42c7-4b38-8567-7a2f105e9a2c",
   "metadata": {},
   "outputs": [
    {
     "name": "stdout",
     "output_type": "stream",
     "text": [
      "[5 5 5 0 5]\n"
     ]
    }
   ],
   "source": [
    "values = np.array([5,8,5,0,9])\n",
    "clipped = np.clip(values,0,5)\n",
    "print(clipped)"
   ]
  },
  {
   "cell_type": "markdown",
   "id": "6a8ee48a-fe2e-43ac-867f-b408608ee6f9",
   "metadata": {},
   "source": [
    "***Resizing an array***"
   ]
  },
  {
   "cell_type": "code",
   "execution_count": 197,
   "id": "4a2fc42e-d2c2-4f23-83c6-3e9591b85fcc",
   "metadata": {},
   "outputs": [
    {
     "name": "stdout",
     "output_type": "stream",
     "text": [
      "[[1 2 1 2]\n",
      " [1 2 1 2]\n",
      " [1 2 1 2]\n",
      " [1 2 1 2]\n",
      " [1 2 1 2]]\n"
     ]
    }
   ],
   "source": [
    "resized = np.resize(y,(5,4))\n",
    "print(resized)"
   ]
  },
  {
   "cell_type": "code",
   "execution_count": null,
   "id": "f0a4af44-7d3c-4212-8c03-e51b0f51b087",
   "metadata": {},
   "outputs": [],
   "source": []
  }
 ],
 "metadata": {
  "kernelspec": {
   "display_name": "Python 3 (ipykernel)",
   "language": "python",
   "name": "python3"
  },
  "language_info": {
   "codemirror_mode": {
    "name": "ipython",
    "version": 3
   },
   "file_extension": ".py",
   "mimetype": "text/x-python",
   "name": "python",
   "nbconvert_exporter": "python",
   "pygments_lexer": "ipython3",
   "version": "3.12.7"
  }
 },
 "nbformat": 4,
 "nbformat_minor": 5
}
